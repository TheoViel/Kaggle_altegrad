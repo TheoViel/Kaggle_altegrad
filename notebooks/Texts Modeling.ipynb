{
 "cells": [
  {
   "cell_type": "code",
   "execution_count": 27,
   "metadata": {},
   "outputs": [
    {
     "name": "stdout",
     "output_type": "stream",
     "text": [
      "The autoreload extension is already loaded. To reload it, use:\n",
      "  %reload_ext autoreload\n"
     ]
    }
   ],
   "source": [
    "%load_ext autoreload\n",
    "%autoreload 2"
   ]
  },
  {
   "cell_type": "code",
   "execution_count": 28,
   "metadata": {
    "scrolled": false
   },
   "outputs": [
    {
     "name": "stdout",
     "output_type": "stream",
     "text": [
      "/home/theo/mva/altegrad/challenge/src\n"
     ]
    }
   ],
   "source": [
    "cd ../src"
   ]
  },
  {
   "cell_type": "code",
   "execution_count": 29,
   "metadata": {},
   "outputs": [],
   "source": [
    "from util import *\n",
    "from params import *\n",
    "from imports import *\n",
    "\n",
    "from models import *\n",
    "\n",
    "from data.dataset import *\n",
    "\n",
    "from training.train import *\n",
    "from training.freeze import *\n",
    "from training.sampler import *\n",
    "\n",
    "from tqdm import tqdm_notebook as tqdm"
   ]
  },
  {
   "cell_type": "code",
   "execution_count": 30,
   "metadata": {},
   "outputs": [],
   "source": [
    "seed_everything(SEED)"
   ]
  },
  {
   "cell_type": "markdown",
   "metadata": {},
   "source": [
    "# Labels"
   ]
  },
  {
   "cell_type": "code",
   "execution_count": 31,
   "metadata": {},
   "outputs": [],
   "source": [
    "sub = pd.read_csv(DATA_PATH + 'graph_baseline.csv')"
   ]
  },
  {
   "cell_type": "code",
   "execution_count": 32,
   "metadata": {},
   "outputs": [],
   "source": [
    "df_train = pd.read_csv(DATA_PATH + 'train.csv', names=['node', 'class'])\n",
    "df_test = pd.read_csv(DATA_PATH + 'test.csv', names=['node'])"
   ]
  },
  {
   "cell_type": "code",
   "execution_count": 33,
   "metadata": {},
   "outputs": [],
   "source": [
    "nodes_train = list(df_train['node'])\n",
    "nodes_test = list(df_test['node'])\n",
    "nodes = nodes_test + nodes_train"
   ]
  },
  {
   "cell_type": "code",
   "execution_count": 34,
   "metadata": {},
   "outputs": [],
   "source": [
    "y_train = np.array([CLASSES.index(c) for c in df_train['class'].values])"
   ]
  },
  {
   "cell_type": "markdown",
   "metadata": {},
   "source": [
    "# $k$-fold"
   ]
  },
  {
   "cell_type": "code",
   "execution_count": 44,
   "metadata": {},
   "outputs": [],
   "source": [
    "def k_fold(selected_model, df_texts, nodes, nodes_test, y, \n",
    "           augment=False, avg_pool=False, extract_ft=False,\n",
    "           k=5, seed=2019, verbose=1, save=True, cp=False):\n",
    "    \n",
    "    splits = list(StratifiedKFold(n_splits=k, random_state=seed).split(X=nodes, y=y))\n",
    "    \n",
    "    pred_ft = None\n",
    "    if extract_ft:\n",
    "        model = Transformer(selected_model, nb_layers=1, pooler_ft=None).cuda()\n",
    "        ft_nodes = [i for i in range(len(df_texts)) if i not in nodes]\n",
    "        ft_dataset = AltegradTestDataset(df_texts, ft_nodes, model)\n",
    "        pred_ft = np.zeros((len(ft_nodes), NUM_CLASSES))\n",
    "    \n",
    "    pred_oof = np.zeros((len(nodes), NUM_CLASSES))\n",
    "    pred_test = np.zeros((len(nodes_test), NUM_CLASSES))\n",
    "    \n",
    "    print(f'Doing {k} folds with {len(nodes)} texts')\n",
    "\n",
    "    for i, (train_idx, val_idx) in enumerate(splits):\n",
    "        print(f\"\\n-------------   Fold {i + 1}  -------------\")\n",
    "        seed_everything(seed + i)\n",
    "\n",
    "        model = Transformer(selected_model, avg_pool=avg_pool).cuda()\n",
    "        model.zero_grad()\n",
    "        \n",
    "        train_dataset = AltegradTrainDataset(df_texts, nodes[train_idx], y[train_idx], model, augment=augment)\n",
    "        val_dataset = AltegradTrainDataset(df_texts, nodes[val_idx], y[val_idx], model)\n",
    "        test_dataset = AltegradTestDataset(df_texts, nodes_test, model)\n",
    "\n",
    "        print('\\n- Training logits & pooler only : ')\n",
    "\n",
    "        freeze(model)\n",
    "        for layer in ['logit', 'pooler']:\n",
    "            unfreeze_layer(model, layer)\n",
    "\n",
    "        n_parameters = count_parameters(model)\n",
    "        print(f'    -> {n_parameters} trainable parameters\\n')\n",
    "\n",
    "        weight_decay = 0\n",
    "        epochs = 2\n",
    "        \n",
    "        fit(model, train_dataset, val_dataset, epochs=epochs, batch_size=64, weight_decay=weight_decay, lr=1e-3)\n",
    "\n",
    "        print('\\n- Training all layers: ')\n",
    "\n",
    "        unfreeze(model)\n",
    "        n_parameters = count_parameters(model)\n",
    "        print(f'    -> {n_parameters} trainable parameters\\n')\n",
    "        \n",
    "        epochs = 2\n",
    "        batch_size = 6\n",
    "        acc_steps = 1\n",
    "        \n",
    "        lr_transfo = 3e-5\n",
    "        lr = 1e-4\n",
    "        lr_decay = 0.95\n",
    "\n",
    "        fit(model, train_dataset, val_dataset, epochs=epochs, batch_size=batch_size, acc_steps=acc_steps, \n",
    "            weight_decay=weight_decay, lr=lr, lr_transfo=lr_transfo, lr_decay=lr_decay,\n",
    "            cp=cp, model_name=f'{selected_model}_{i + 1}')\n",
    "\n",
    "        print('\\n- Evaluating: ')\n",
    "\n",
    "        if cp:\n",
    "            load_model_weights(model, f\"{selected_model}_{i + 1}_cp.pt\", verbose=1)\n",
    "\n",
    "        pred_val = predict(model, val_dataset, batch_size=64)\n",
    "        pred_oof[val_idx] = pred_val\n",
    "        \n",
    "        val_loss = cross_entropy(pred_val, y[val_idx])\n",
    "        print(f'\\n Scored {val_loss :.3f} on validation data')\n",
    "        \n",
    "        pred_test += predict(model, test_dataset, batch_size=64) / k\n",
    "        if extract_ft:\n",
    "            pred_ft += predict(model, ft_dataset, batch_size=64) / k\n",
    "\n",
    "        del model, train_dataset, val_dataset\n",
    "        torch.cuda.empty_cache()\n",
    "        gc.collect()\n",
    "    \n",
    "    return pred_oof, pred_test, pred_ft"
   ]
  },
  {
   "cell_type": "code",
   "execution_count": 45,
   "metadata": {},
   "outputs": [],
   "source": [
    "SELECTED_MODEL = \"camembert-base\"\n",
    "extract_ft = False"
   ]
  },
  {
   "cell_type": "code",
   "execution_count": 46,
   "metadata": {},
   "outputs": [],
   "source": [
    "# model = Transformer(SELECTED_MODEL)\n",
    "# dataset = AltegradTrainDataset(df_texts, nodes_train, y_train, model)"
   ]
  },
  {
   "cell_type": "code",
   "execution_count": 49,
   "metadata": {},
   "outputs": [],
   "source": [
    "augment = False\n",
    "translate = True\n",
    "avg_pool = True"
   ]
  },
  {
   "cell_type": "code",
   "execution_count": 50,
   "metadata": {},
   "outputs": [],
   "source": [
    "if translate: \n",
    "    df_texts = pd.read_csv('../output/df_texts_trans.csv')\n",
    "else:\n",
    "    df_texts = pd.read_csv('../output/df_texts.csv')"
   ]
  },
  {
   "cell_type": "code",
   "execution_count": 51,
   "metadata": {
    "scrolled": false
   },
   "outputs": [
    {
     "name": "stdout",
     "output_type": "stream",
     "text": [
      "Doing 5 folds with 2125 texts\n",
      "\n",
      "-------------   Fold 1  -------------\n",
      "\n",
      "- Training logits & pooler only : \n",
      "    -> 1187336 trainable parameters\n",
      "\n",
      "Epoch 1/2 \t lr=5.0e-04 \t t=29s \t loss=1.7708 \t val_loss=1.6761\n",
      "Epoch 2/2 \t lr=0.0e+00 \t t=29s \t loss=1.6463 \t val_loss=1.6282\n",
      "\n",
      "- Training all layers: \n",
      "    -> 111218696 trainable parameters\n",
      "\n",
      "Epoch 1/2 \t lr=8.1e-06 \t t=80s \t loss=1.2455 \t val_loss=1.3012\n",
      "Epoch 2/2 \t lr=0.0e+00 \t t=81s \t loss=0.9261 \t val_loss=1.2813\n",
      "\n",
      "- Evaluating: \n",
      "\n",
      " Scored 1.282 on validation data\n",
      "\n",
      "-------------   Fold 2  -------------\n",
      "\n",
      "- Training logits & pooler only : \n",
      "    -> 1187336 trainable parameters\n",
      "\n",
      "Epoch 1/2 \t lr=5.0e-04 \t t=30s \t loss=1.7788 \t val_loss=1.6740\n",
      "Epoch 2/2 \t lr=0.0e+00 \t t=30s \t loss=1.6555 \t val_loss=1.6257\n",
      "\n",
      "- Training all layers: \n",
      "    -> 111218696 trainable parameters\n",
      "\n",
      "Epoch 1/2 \t lr=8.1e-06 \t t=81s \t loss=1.2856 \t val_loss=1.1345\n",
      "Epoch 2/2 \t lr=0.0e+00 \t t=81s \t loss=0.9768 \t val_loss=1.0917\n",
      "\n",
      "- Evaluating: \n",
      "\n",
      " Scored 1.093 on validation data\n",
      "\n",
      "-------------   Fold 3  -------------\n",
      "\n",
      "- Training logits & pooler only : \n",
      "    -> 1187336 trainable parameters\n",
      "\n",
      "Epoch 1/2 \t lr=5.0e-04 \t t=30s \t loss=1.7678 \t val_loss=1.6753\n",
      "Epoch 2/2 \t lr=0.0e+00 \t t=30s \t loss=1.6420 \t val_loss=1.6179\n",
      "\n",
      "- Training all layers: \n",
      "    -> 111218696 trainable parameters\n",
      "\n",
      "Epoch 1/2 \t lr=8.1e-06 \t t=81s \t loss=1.2850 \t val_loss=1.1315\n",
      "Epoch 2/2 \t lr=0.0e+00 \t t=81s \t loss=0.9707 \t val_loss=1.0945\n",
      "\n",
      "- Evaluating: \n",
      "\n",
      " Scored 1.095 on validation data\n",
      "\n",
      "-------------   Fold 4  -------------\n",
      "\n",
      "- Training logits & pooler only : \n",
      "    -> 1187336 trainable parameters\n",
      "\n",
      "Epoch 1/2 \t lr=5.0e-04 \t t=30s \t loss=1.7702 \t val_loss=1.7007\n",
      "Epoch 2/2 \t lr=0.0e+00 \t t=30s \t loss=1.6447 \t val_loss=1.6199\n",
      "\n",
      "- Training all layers: \n",
      "    -> 111218696 trainable parameters\n",
      "\n",
      "Epoch 1/2 \t lr=8.1e-06 \t t=81s \t loss=1.2431 \t val_loss=1.2445\n",
      "Epoch 2/2 \t lr=0.0e+00 \t t=81s \t loss=0.9401 \t val_loss=1.2396\n",
      "\n",
      "- Evaluating: \n",
      "\n",
      " Scored 1.241 on validation data\n",
      "\n",
      "-------------   Fold 5  -------------\n",
      "\n",
      "- Training logits & pooler only : \n",
      "    -> 1187336 trainable parameters\n",
      "\n",
      "Epoch 1/2 \t lr=5.0e-04 \t t=30s \t loss=1.7743 \t val_loss=1.6439\n",
      "Epoch 2/2 \t lr=0.0e+00 \t t=30s \t loss=1.6540 \t val_loss=1.5935\n",
      "\n",
      "- Training all layers: \n",
      "    -> 111218696 trainable parameters\n",
      "\n",
      "Epoch 1/2 \t lr=8.1e-06 \t t=84s \t loss=1.3045 \t val_loss=1.0635\n",
      "Epoch 2/2 \t lr=0.0e+00 \t t=81s \t loss=1.0060 \t val_loss=0.9801\n",
      "\n",
      "- Evaluating: \n",
      "\n",
      " Scored 0.981 on validation data\n"
     ]
    }
   ],
   "source": [
    "pred_oof, pred_test, pred_ft = k_fold(SELECTED_MODEL, df_texts, np.array(nodes_train), np.array(nodes_test),\n",
    "                                      y_train, extract_ft=extract_ft, augment=augment, avg_pool=avg_pool,\n",
    "                                      k=5, seed=SEED, verbose=1, save=False, cp=False)"
   ]
  },
  {
   "cell_type": "code",
   "execution_count": 52,
   "metadata": {},
   "outputs": [
    {
     "name": "stdout",
     "output_type": "stream",
     "text": [
      " -> Local CV score is 1.138\n"
     ]
    }
   ],
   "source": [
    "score = cross_entropy(pred_oof, y_train)\n",
    "print(f\" -> Local CV score is {score:.3f}\")"
   ]
  },
  {
   "cell_type": "code",
   "execution_count": null,
   "metadata": {},
   "outputs": [],
   "source": [
    "name = 'noaugment_trad_avg'"
   ]
  },
  {
   "cell_type": "code",
   "execution_count": null,
   "metadata": {},
   "outputs": [],
   "source": [
    "if extract_ft:\n",
    "    np.save(f'../output/pred_ft_{SELECTED_MODEL}_{score:.3f}_{name}.npy', pred_ft)\n",
    "\n",
    "np.save(f'../output/pred_oof_{SELECTED_MODEL}_{score:.3f}_{name}.npy', pred_oof)\n",
    "np.save(f'../output/pred_test_{SELECTED_MODEL}_{score:.3f}_{name}.npy', pred_test)"
   ]
  },
  {
   "cell_type": "code",
   "execution_count": null,
   "metadata": {
    "scrolled": false
   },
   "outputs": [],
   "source": [
    "from util import plot_confusion_matrix\n",
    "plot_confusion_matrix(np.argmax(pred_oof, -1), y_train)\n",
    "plt.show()"
   ]
  },
  {
   "cell_type": "code",
   "execution_count": null,
   "metadata": {},
   "outputs": [],
   "source": [
    "# sub[CLASSES] = pred_test\n",
    "# sub.to_csv(f'../output/sub_{score:.3f}.csv', index=False)"
   ]
  }
 ],
 "metadata": {
  "kernelspec": {
   "display_name": "venv",
   "language": "python",
   "name": "venv"
  },
  "language_info": {
   "codemirror_mode": {
    "name": "ipython",
    "version": 3
   },
   "file_extension": ".py",
   "mimetype": "text/x-python",
   "name": "python",
   "nbconvert_exporter": "python",
   "pygments_lexer": "ipython3",
   "version": "3.7.6"
  }
 },
 "nbformat": 4,
 "nbformat_minor": 4
}
