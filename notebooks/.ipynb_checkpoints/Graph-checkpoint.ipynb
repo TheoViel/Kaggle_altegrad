{
 "cells": [
  {
   "cell_type": "code",
   "execution_count": 33,
   "metadata": {},
   "outputs": [
    {
     "name": "stdout",
     "output_type": "stream",
     "text": [
      "The autoreload extension is already loaded. To reload it, use:\n",
      "  %reload_ext autoreload\n"
     ]
    }
   ],
   "source": [
    "%load_ext autoreload\n",
    "%autoreload 2"
   ]
  },
  {
   "cell_type": "code",
   "execution_count": 34,
   "metadata": {
    "scrolled": true
   },
   "outputs": [
    {
     "name": "stdout",
     "output_type": "stream",
     "text": [
      "/home/theo/mva/altegrad/challenge/src\n"
     ]
    }
   ],
   "source": [
    "cd ../src"
   ]
  },
  {
   "cell_type": "code",
   "execution_count": 35,
   "metadata": {},
   "outputs": [],
   "source": [
    "from util import *\n",
    "from params import *\n",
    "from imports import *\n",
    "\n",
    "from post_processing import *"
   ]
  },
  {
   "cell_type": "code",
   "execution_count": 36,
   "metadata": {},
   "outputs": [],
   "source": [
    "seed_everything(SEED)"
   ]
  },
  {
   "cell_type": "markdown",
   "metadata": {},
   "source": [
    "# Data"
   ]
  },
  {
   "cell_type": "markdown",
   "metadata": {},
   "source": [
    "## Labels & nodes"
   ]
  },
  {
   "cell_type": "code",
   "execution_count": 37,
   "metadata": {},
   "outputs": [],
   "source": [
    "sub = pd.read_csv(DATA_PATH + 'graph_baseline.csv')"
   ]
  },
  {
   "cell_type": "code",
   "execution_count": 38,
   "metadata": {},
   "outputs": [],
   "source": [
    "df_train = pd.read_csv(DATA_PATH + 'train.csv', names=['node', 'class'])\n",
    "df_test = pd.read_csv(DATA_PATH + 'test.csv', names=['node'])"
   ]
  },
  {
   "cell_type": "code",
   "execution_count": 39,
   "metadata": {},
   "outputs": [
    {
     "data": {
      "text/html": [
       "<div>\n",
       "<style scoped>\n",
       "    .dataframe tbody tr th:only-of-type {\n",
       "        vertical-align: middle;\n",
       "    }\n",
       "\n",
       "    .dataframe tbody tr th {\n",
       "        vertical-align: top;\n",
       "    }\n",
       "\n",
       "    .dataframe thead th {\n",
       "        text-align: right;\n",
       "    }\n",
       "</style>\n",
       "<table border=\"1\" class=\"dataframe\">\n",
       "  <thead>\n",
       "    <tr style=\"text-align: right;\">\n",
       "      <th></th>\n",
       "      <th>node</th>\n",
       "      <th>class</th>\n",
       "    </tr>\n",
       "  </thead>\n",
       "  <tbody>\n",
       "    <tr>\n",
       "      <th>0</th>\n",
       "      <td>9032</td>\n",
       "      <td>health/medical</td>\n",
       "    </tr>\n",
       "    <tr>\n",
       "      <th>1</th>\n",
       "      <td>5346</td>\n",
       "      <td>entertainment</td>\n",
       "    </tr>\n",
       "    <tr>\n",
       "      <th>2</th>\n",
       "      <td>18778</td>\n",
       "      <td>entertainment</td>\n",
       "    </tr>\n",
       "    <tr>\n",
       "      <th>3</th>\n",
       "      <td>11939</td>\n",
       "      <td>education/research</td>\n",
       "    </tr>\n",
       "    <tr>\n",
       "      <th>4</th>\n",
       "      <td>17502</td>\n",
       "      <td>tech/science</td>\n",
       "    </tr>\n",
       "  </tbody>\n",
       "</table>\n",
       "</div>"
      ],
      "text/plain": [
       "    node               class\n",
       "0   9032      health/medical\n",
       "1   5346       entertainment\n",
       "2  18778       entertainment\n",
       "3  11939  education/research\n",
       "4  17502        tech/science"
      ]
     },
     "execution_count": 39,
     "metadata": {},
     "output_type": "execute_result"
    }
   ],
   "source": [
    "df_train.head()"
   ]
  },
  {
   "cell_type": "code",
   "execution_count": 40,
   "metadata": {},
   "outputs": [],
   "source": [
    "nodes_train = list(df_train['node'])\n",
    "nodes_test = list(df_test['node'])"
   ]
  },
  {
   "cell_type": "code",
   "execution_count": 41,
   "metadata": {},
   "outputs": [],
   "source": [
    "nodes = nodes_test + nodes_train"
   ]
  },
  {
   "cell_type": "code",
   "execution_count": 42,
   "metadata": {},
   "outputs": [],
   "source": [
    "y_train = np.array([CLASSES.index(c) for c in df_train['class'].values])"
   ]
  },
  {
   "cell_type": "markdown",
   "metadata": {},
   "source": [
    "## Graph"
   ]
  },
  {
   "cell_type": "code",
   "execution_count": 43,
   "metadata": {},
   "outputs": [],
   "source": [
    "G = nx.read_weighted_edgelist(DATA_PATH + 'edgelist.txt', create_using=nx.DiGraph())\n",
    "nodes_indexing = list(np.array(list(G.nodes)).astype(int))"
   ]
  },
  {
   "cell_type": "code",
   "execution_count": 44,
   "metadata": {
    "scrolled": true
   },
   "outputs": [],
   "source": [
    "full_graph = nx.adjacency_matrix(G).toarray()"
   ]
  },
  {
   "cell_type": "markdown",
   "metadata": {},
   "source": [
    "## Texts"
   ]
  },
  {
   "cell_type": "code",
   "execution_count": null,
   "metadata": {},
   "outputs": [],
   "source": [
    "df_texts = pd.read_csv('../output/df_texts.csv')"
   ]
  },
  {
   "cell_type": "code",
   "execution_count": null,
   "metadata": {
    "scrolled": true
   },
   "outputs": [],
   "source": [
    "df_texts.head()"
   ]
  },
  {
   "cell_type": "code",
   "execution_count": null,
   "metadata": {},
   "outputs": [],
   "source": [
    "errors = ((df_texts['language'].values != 'fr') + df_texts['error'].values >= 1).astype(int)\n",
    "errors = (df_texts['error'].values >= 1).astype(int)"
   ]
  },
  {
   "cell_type": "code",
   "execution_count": null,
   "metadata": {},
   "outputs": [],
   "source": [
    "Counter(errors)"
   ]
  },
  {
   "cell_type": "markdown",
   "metadata": {},
   "source": [
    "# $k$-fold"
   ]
  },
  {
   "cell_type": "code",
   "execution_count": null,
   "metadata": {},
   "outputs": [],
   "source": [
    "def k_fold_lgb(graph, nodes_indexing, nodes, nodes_test, features, errors, y, \n",
    "               seed=2019, k=5, n_neigh=5, remove_error=False):  \n",
    "    X = np.array([get_knns_features(node, graph, features, nodes_indexing, errors, \n",
    "                                    k=n_neigh, remove_error=remove_error) for node in nodes])\n",
    "        \n",
    "    X_test = np.array([get_knns_features(node, graph, features, nodes_indexing, errors, \n",
    "                                         k=n_neigh, remove_error=remove_error) for node in nodes_test])\n",
    "    \n",
    "    print(\"Training data shape :\", X.shape)\n",
    "    \n",
    "    splits = list(StratifiedKFold(n_splits=k, random_state=seed).split(X=nodes, y=y))\n",
    "    \n",
    "    pred_oof = np.zeros((len(nodes), NUM_CLASSES))\n",
    "    pred_test = np.zeros((len(nodes_test), NUM_CLASSES))\n",
    "    \n",
    "    for i, (train_idx, val_idx) in enumerate(splits):\n",
    "        print('')\n",
    "        clf = run_lgb(X[train_idx], X[val_idx], y[train_idx], y[val_idx])\n",
    "\n",
    "        pred_val = clf.predict(X[val_idx])\n",
    "        \n",
    "        pred_oof[val_idx] = pred_val\n",
    "        pred_test += clf.predict(X_test) / k\n",
    "\n",
    "    val_loss = cross_entropy(pred_oof, y)\n",
    "    print(f'\\n CV = {val_loss :.3f}') \n",
    "    \n",
    "    return pred_oof, pred_test"
   ]
  },
  {
   "cell_type": "markdown",
   "metadata": {},
   "source": [
    "# Modeling"
   ]
  },
  {
   "cell_type": "code",
   "execution_count": null,
   "metadata": {},
   "outputs": [],
   "source": [
    "models = [\n",
    "    'camembert-base_1.151_augment_notrad',\n",
    "    'camembert-base_1.151_noaugment_notrad',\n",
    "    'camembert-base_1.137_noaugment_trad',\n",
    "    'camembert-base_1.144_augment_trad',\n",
    "    'camembert-base_1.136_noaugment_trad_avg',\n",
    "]"
   ]
  },
  {
   "cell_type": "code",
   "execution_count": null,
   "metadata": {},
   "outputs": [],
   "source": [
    "pred_fts = []\n",
    "pred_oofs = []"
   ]
  },
  {
   "cell_type": "code",
   "execution_count": null,
   "metadata": {},
   "outputs": [],
   "source": [
    "for model in models:\n",
    "    pred_fts.append(np.load(f'../output/pred_ft_{model}.npy'))\n",
    "    pred_oofs.append(np.load(f'../output/pred_oof_{model}.npy'))"
   ]
  },
  {
   "cell_type": "code",
   "execution_count": null,
   "metadata": {},
   "outputs": [],
   "source": [
    "pred_oof = np.mean(pred_oofs, 0)\n",
    "pred_ft = np.mean(pred_fts, 0)"
   ]
  },
  {
   "cell_type": "code",
   "execution_count": null,
   "metadata": {},
   "outputs": [],
   "source": [
    "features = np.zeros((len(df_texts), pred_oof.shape[-1]))\n",
    "ft_nodes = np.array([i for i in range(len(df_texts)) if i not in nodes_train])\n",
    "\n",
    "features[np.array(nodes_train)] = pred_oof\n",
    "features[ft_nodes] = pred_ft"
   ]
  },
  {
   "cell_type": "code",
   "execution_count": null,
   "metadata": {
    "scrolled": false
   },
   "outputs": [],
   "source": [
    "pred_oof, pred_test = k_fold_lgb(full_graph, nodes_indexing, nodes_train,\n",
    "                                 nodes_test, features, errors, y_train,\n",
    "                                 seed=SEED, k=5, n_neigh=2, remove_error=False)"
   ]
  },
  {
   "cell_type": "code",
   "execution_count": null,
   "metadata": {},
   "outputs": [],
   "source": [
    "score = cross_entropy(pred_oof, y_train)\n",
    "print(f\" -> Local CV score is {score:.3f}\")"
   ]
  },
  {
   "cell_type": "markdown",
   "metadata": {},
   "source": [
    "# Blending after modeling"
   ]
  },
  {
   "cell_type": "code",
   "execution_count": null,
   "metadata": {},
   "outputs": [],
   "source": [
    "pred_oofs = []\n",
    "pred_tests = []"
   ]
  },
  {
   "cell_type": "code",
   "execution_count": null,
   "metadata": {},
   "outputs": [],
   "source": [
    "for model in models:\n",
    "    \n",
    "    print(f'\\n Model : {model}')\n",
    "    pred_ft = np.load(f'../output/pred_ft_{model}.npy')\n",
    "    pred_oof = np.load(f'../output/pred_oof_{model}.npy')\n",
    "    \n",
    "    features = np.zeros((len(df_texts), pred_oof.shape[-1]))\n",
    "    ft_nodes = np.array([i for i in range(len(df_texts)) if i not in nodes_train])\n",
    "\n",
    "    features[np.array(nodes_train)] = pred_oof\n",
    "    features[ft_nodes] = pred_ft\n",
    "\n",
    "    pred_oof, pred_test = k_fold_lgb(full_graph, nodes_indexing, nodes_train,\n",
    "                                 nodes_test, features, errors, y_train,\n",
    "                                 seed=SEED, k=5, n_neigh=1, remove_error=True)\n",
    "    pred_oofs.append(pred_oof)\n",
    "    pred_tests.append(pred_test)"
   ]
  },
  {
   "cell_type": "code",
   "execution_count": null,
   "metadata": {},
   "outputs": [],
   "source": [
    "pred_oof = np.mean(pred_oofs, 0)\n",
    "pred_test = np.mean(pred_tests, 0)"
   ]
  },
  {
   "cell_type": "code",
   "execution_count": null,
   "metadata": {},
   "outputs": [],
   "source": [
    "score = cross_entropy(pred_oof, y_train)\n",
    "print(f\" -> Local CV score is {score:.3f}\")"
   ]
  },
  {
   "cell_type": "code",
   "execution_count": null,
   "metadata": {},
   "outputs": [],
   "source": [
    "from util import plot_confusion_matrix\n",
    "plot_confusion_matrix(np.argmax(pred_oof, -1), y_train)\n",
    "plt.show()"
   ]
  },
  {
   "cell_type": "code",
   "execution_count": null,
   "metadata": {},
   "outputs": [],
   "source": [
    "sub[CLASSES] = pred_test\n",
    "sub.to_csv(f'../output/sub_{score:.3f}_graph.csv', index=False)"
   ]
  }
 ],
 "metadata": {
  "kernelspec": {
   "display_name": "venv",
   "language": "python",
   "name": "venv"
  },
  "language_info": {
   "codemirror_mode": {
    "name": "ipython",
    "version": 3
   },
   "file_extension": ".py",
   "mimetype": "text/x-python",
   "name": "python",
   "nbconvert_exporter": "python",
   "pygments_lexer": "ipython3",
   "version": "3.7.6"
  }
 },
 "nbformat": 4,
 "nbformat_minor": 4
}
