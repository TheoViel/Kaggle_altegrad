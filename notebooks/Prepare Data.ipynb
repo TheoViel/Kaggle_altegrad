{
 "cells": [
  {
   "cell_type": "code",
   "execution_count": 27,
   "metadata": {},
   "outputs": [
    {
     "name": "stdout",
     "output_type": "stream",
     "text": [
      "The autoreload extension is already loaded. To reload it, use:\n",
      "  %reload_ext autoreload\n"
     ]
    }
   ],
   "source": [
    "%load_ext autoreload\n",
    "%autoreload 2"
   ]
  },
  {
   "cell_type": "code",
   "execution_count": 28,
   "metadata": {
    "scrolled": false
   },
   "outputs": [
    {
     "name": "stdout",
     "output_type": "stream",
     "text": [
      "/home/theo/mva/altegrad/challenge/src\n"
     ]
    }
   ],
   "source": [
    "cd ../src"
   ]
  },
  {
   "cell_type": "code",
   "execution_count": 29,
   "metadata": {},
   "outputs": [],
   "source": [
    "from util import *\n",
    "from params import *\n",
    "from imports import *\n",
    "\n",
    "\n",
    "from data.dataset import *\n",
    "from data.text_processing import *\n",
    "\n",
    "\n",
    "from models import *"
   ]
  },
  {
   "cell_type": "code",
   "execution_count": 30,
   "metadata": {},
   "outputs": [],
   "source": [
    "seed_everything(SEED)"
   ]
  },
  {
   "cell_type": "markdown",
   "metadata": {},
   "source": [
    "# Labels"
   ]
  },
  {
   "cell_type": "code",
   "execution_count": 31,
   "metadata": {},
   "outputs": [],
   "source": [
    "sub = pd.read_csv(DATA_PATH + 'graph_baseline.csv')"
   ]
  },
  {
   "cell_type": "code",
   "execution_count": 32,
   "metadata": {},
   "outputs": [],
   "source": [
    "# df_train = pd.read_csv(DATA_PATH + 'train_noduplicates.csv', names=['node', 'class'])\n",
    "df_train = pd.read_csv(DATA_PATH + 'train.csv', names=['node', 'class'])\n",
    "df_test = pd.read_csv(DATA_PATH + 'test.csv', names=['node'])"
   ]
  },
  {
   "cell_type": "code",
   "execution_count": 33,
   "metadata": {},
   "outputs": [
    {
     "data": {
      "text/plain": [
       "['business/finance',\n",
       " 'education/research',\n",
       " 'entertainment',\n",
       " 'health/medical',\n",
       " 'news/press',\n",
       " 'politics/government/law',\n",
       " 'sports',\n",
       " 'tech/science']"
      ]
     },
     "execution_count": 33,
     "metadata": {},
     "output_type": "execute_result"
    }
   ],
   "source": [
    "CLASSES"
   ]
  },
  {
   "cell_type": "code",
   "execution_count": 34,
   "metadata": {},
   "outputs": [
    {
     "data": {
      "text/plain": [
       "(2125, 560)"
      ]
     },
     "execution_count": 34,
     "metadata": {},
     "output_type": "execute_result"
    }
   ],
   "source": [
    "len(df_train), len(df_test)"
   ]
  },
  {
   "cell_type": "code",
   "execution_count": 35,
   "metadata": {},
   "outputs": [
    {
     "data": {
      "image/png": "[encoded data removed]",
      "text/plain": [
       "<Figure size 720x432 with 1 Axes>"
      ]
     },
     "metadata": {
      "needs_background": "light"
     },
     "output_type": "display_data"
    }
   ],
   "source": [
    "plot_categorical(df_train['class'], orient='h', ticks=CLASSES, order=CLASSES, xlim=(0, 700))"
   ]
  },
  {
   "cell_type": "code",
   "execution_count": 36,
   "metadata": {},
   "outputs": [],
   "source": [
    "nodes_train = list(df_train['node'])\n",
    "nodes_test = list(df_test['node'])\n",
    "nodes = nodes_test + nodes_train"
   ]
  },
  {
   "cell_type": "code",
   "execution_count": 37,
   "metadata": {},
   "outputs": [],
   "source": [
    "y_train = np.array([CLASSES.index(c) for c in df_train['class'].values])"
   ]
  },
  {
   "cell_type": "code",
   "execution_count": 38,
   "metadata": {},
   "outputs": [
    {
     "data": {
      "text/plain": [
       "['business/finance',\n",
       " 'education/research',\n",
       " 'entertainment',\n",
       " 'health/medical',\n",
       " 'news/press',\n",
       " 'politics/government/law',\n",
       " 'sports',\n",
       " 'tech/science']"
      ]
     },
     "execution_count": 38,
     "metadata": {},
     "output_type": "execute_result"
    }
   ],
   "source": [
    "CLASSES"
   ]
  },
  {
   "cell_type": "markdown",
   "metadata": {},
   "source": [
    "# Texts"
   ]
  },
  {
   "cell_type": "code",
   "execution_count": 39,
   "metadata": {},
   "outputs": [],
   "source": [
    "TRANSLATE = False\n",
    "filename = 'df_texts_trans' if TRANSLATE else 'df_texts'"
   ]
  },
  {
   "cell_type": "markdown",
   "metadata": {},
   "source": [
    "## Treat data"
   ]
  },
  {
   "cell_type": "markdown",
   "metadata": {},
   "source": [
    "### Extract texts"
   ]
  },
  {
   "cell_type": "code",
   "execution_count": 40,
   "metadata": {
    "scrolled": false
   },
   "outputs": [
    {
     "name": "stderr",
     "output_type": "stream",
     "text": [
      "100%|██████████| 28003/28003 [00:28<00:00, 984.12it/s] \n"
     ]
    }
   ],
   "source": [
    "texts = []\n",
    "\n",
    "for i in tqdm(range(NB_NODES)):\n",
    "    try:\n",
    "        with codecs.open(TEXT_PATH + f'{i}', encoding='utf-8') as f:\n",
    "            text = f.read().replace(\"\\n\", \"\").lower()\n",
    "    except:\n",
    "        with codecs.open(TEXT_PATH + f'{i}', encoding='latin-1') as f:\n",
    "            text = f.read().replace(\"\\n\", \"\").lower()\n",
    "\n",
    "    text = ' '.join(text.split(' ')[:5000])\n",
    "    texts.append(text)"
   ]
  },
  {
   "cell_type": "code",
   "execution_count": 41,
   "metadata": {},
   "outputs": [],
   "source": [
    "df_texts = pd.DataFrame()\n",
    "df_texts['text'] = texts\n",
    "df_texts['len'] = df_texts['text'].apply(lambda x: len(x.split(' ')))"
   ]
  },
  {
   "cell_type": "code",
   "execution_count": 42,
   "metadata": {},
   "outputs": [
    {
     "data": {
      "image/png": "[encoded data removed]",
      "text/plain": [
       "<Figure size 432x288 with 1 Axes>"
      ]
     },
     "metadata": {
      "needs_background": "light"
     },
     "output_type": "display_data"
    }
   ],
   "source": [
    "sns.distplot(df_texts['len'])\n",
    "plt.show()"
   ]
  },
  {
   "cell_type": "markdown",
   "metadata": {},
   "source": [
    "### Treat Texts "
   ]
  },
  {
   "cell_type": "code",
   "execution_count": 43,
   "metadata": {},
   "outputs": [
    {
     "name": "stderr",
     "output_type": "stream",
     "text": [
      "100%|██████████| 8/8 [00:19<00:00,  2.46s/it]\n"
     ]
    }
   ],
   "source": [
    "df_texts['treated_text'] = treat_texts(df_texts['text'])"
   ]
  },
  {
   "cell_type": "markdown",
   "metadata": {},
   "source": [
    "### Removing some NaNs "
   ]
  },
  {
   "cell_type": "code",
   "execution_count": 44,
   "metadata": {},
   "outputs": [
    {
     "name": "stdout",
     "output_type": "stream",
     "text": [
      "Saved to ../output/df_texts.csv\n"
     ]
    }
   ],
   "source": [
    "df_texts.to_csv(f'../output/{filename}.csv', index=False)\n",
    "print(f'Saved to ../output/{filename}.csv')\n",
    "\n",
    "\n",
    "df_texts = pd.read_csv(f'../output/{filename}.csv')\n",
    "df_texts.fillna('No text', inplace=True)"
   ]
  },
  {
   "cell_type": "markdown",
   "metadata": {},
   "source": [
    "### Preview"
   ]
  },
  {
   "cell_type": "code",
   "execution_count": 45,
   "metadata": {
    "scrolled": true
   },
   "outputs": [
    {
     "name": "stdout",
     "output_type": "stream",
     "text": [
      "Node #9032 : Class 0    health/medical\n",
      "Name: class, dtype: object\n",
      "#polepharma » flux polepharma » flux des commentaires polepharma polepharma ﻿ recherche submit (button) toggle navigation polepharma * polepharma + qui sommes-nous ? + organigramme + les chiffres clés + un réseau * territoires + région centre-val de loire + région normandie + conseil départemental d'eure&loir + chartres metropole + metropole de rouen + agglo du pays de dreux + agglo evreux portes de normandie + agglo seine&eure + agglo de tours plus * performance industrielle + excellence opérationnelle + maintenance + packaging + supply chain + usine du futur * talents * relations publiques * innovation + biomédicaments + fédérer + collaborer + promouvoir adhérer à polepharma espace adhérent rechercher un adhérent je découvre les métiers de la filière pharmaceutique polepharma médiathèque espace presse polepharma polepharma ﻿ recherche submit polepharma polepharma * polepharma + qui sommes-nous ? + organigramme + les chiffres clés + un réseau * territoires + région centre-val de loire + région normandie + conseil départemental d'eure&loir + chartres metropole + metropole de rouen + agglo du pays de dreux + agglo evreux portes de normandie + agglo seine&eure + agglo de tours plus * performance industrielle + excellence opérationnelle + maintenance + packaging + supply chain + usine du futur * talents * relations publiques * innovation + biomédicaments + fédérer + collaborer + promouvoir * lancement d'un ami national pour l'émergence de projets collaboratifs d'innovationlancement d'un ami national pour l'émergence de projets afin de répondre à la priorité « technologies de ruptures en bioproduction (trbp) » identifiée dans le contrat de filière du csf « industries et technologies de... > lire la suite * polepharma, partenaire du colloque international adebiotechpolepharma, partenaire du colloque international adebiotech polepharma est partenaire du colloque international adebiotech « advanced analytical technologies for proteins » (aatp), 2-3 octobre 2019 à biocitech (romainville-grand paris) qui couvrira les... > lire la suite * agro-bio lance son nouveau site internet !agro-bio lance son nouveau site internet ! agro-bio lance son nouveau site internet ! les nouveautés principales de cette version 2019 sont : la mise en cohérence avec notre nouvelle offre de prestations... > lire la suite * soirées 18/21 polepharma réseau : toutes les datessoirées 18/21 polepharma réseau : toutes les dates le réseau s'enrichit participer aux soirées 18/21 réseau polepharma c'est : rencontrer les acteurs du développement et de la production pharmaceutique développer et entretenir votre réseau... > lire la suite * save the date : congrès polepharma bioproduction – 12 & 13 décembre 2019 save the date : congrès polepharma bioproduction – 12 & 13 décembre 2019 congrès polepharma bioproduction – 4ème édition les 12 & 13 décembre 2019 au palais des congrès de tours sous la présidence de thierry ziegler, head of manufacturing de cellectis. dans un... > lire la suite * save the date : colloque polepharma industrie du futur – 28 novembre 2019 save the date : colloque polepharma industrie du futur – 28 novembre 2019 colloque polepharma industrie du futur – 3ème édition le 28 novembre 2019 au kindarena de rouen sous la présidence de yann gharfourzadeh, vice president sales & operation emea pharma du groupe... > lire la suite * polepharma recrute !polepharma recrute ! portée par son dynamisme, l'équipe s'agrandit ! polepharma recrute : un chef de projet affaires pharmaceutiques un chef de projet innovations... > lire la suite * comprendre en 1 mn50 les métiers de la production pharmaceutiquecomprendre en 1 mn50 les métiers de la production pharmaceutique lancer la vidéo vous recherchez un emploi ? avez-vous pensé aux métiers de la production de l'industrie pharmaceutique ? la france est l'un des premiers producteurs européens... > lire la suite * comprendre les biomédicaments en 2 minutes, c'est possible !comprendre les biomédicaments en 2 minutes, c'est possible ! les biomédicaments en vidéo cliquez ici... > lire la suiteinscriptionaux événements 12 au 13 décembre 2019 > centre international de congrès de tours colloque polepharma bioproduction - 4éme ed. inscription 10 décembre 2019 > oril workshop 2 digitalisation et culture qualité / 10 décembre 2019 inscription 03 décembre 2019 > sanofi séminaire spécial inspections inscription 28 novembre 2019 > kindarena colloque polepharma industrie du futur - 3ème edition inscription 19 au 20 novembre 2019 > centre international de congrès de tours tips 2019 inscription 31 octobre 2019 > hotel de région normandie rouen les assises polepharma de l'innovation en normandie 2nd edition inscription 23 octobre 2019 > golf du bois d'o soirée polepharma réseau - dreux (28) inscription 17 octobre 2019 > uimm workshop 1 digitalisation et culture qualité / 17 octobre 2019 inscription 10 octobre 2019 > evreux rencontres polepharma de l'amélioration continue - 3 e édition inscription 25 septembre 2019 > le paganica soirée polepharma réseau - evreux (27) inscription 04 juillet 2019 > dreux - (28) la fabrh polepharma #1 inscription 28 juin 2019 > golf parc robert hersant polepharma business tour inscription 26 juin 2019 > golf de caen la mer, soirée polepharma réseau - caen (14) inscription 23 mai 2019 > golf du bois d'o soirée polepharma réseau - dreux (28) inscription 16 mai 2019 > château royal de blois assemblée générale polepharma 2019 inscription 14 mai 2019 > hôtel national des invalides colloque souveraineté medicaments & api inscription 14 mai 2019 > tec'lab: realité virtuelle appliquée inscription 09 au 10 avril 2019 > ufr sante rouen les journées polepharma de microbiomique inscription 28 mars 2019 > synchrotron soleil soirée polepharma réseau - paris saclay (91) inscription 07 mars 2019 > novotel rouen sud mat'inno polepharma \"développer son business à l'international\" inscription 05 mars au 23 avril 2019 > le hangar 9ème afterwork biomédicament inscription 28 février 2019 > golf de léry-poses soirée polepharma réseau - louviers (27) inscription 07 février 2019 > cotton club atelier propriété industrielle / 07 fev 2019 inscription 07 février 2019 > cotton club atelier propriété industrielle - 7 février 2019 inscription 04 février 2019 > delpharm evreux invitation : visite delpharm evreux inscription 02 février 2019 > caen phinder de la pharma : forum national des facultés de pharmacie inscription 31 janvier 2019 > golf de chartres fontenay soirée polepharma réseau - chartres (28) inscription 15 janvier 2019 > novotel rouen sud les mat'inno polepharma \"financement européen des projets r&d\" inscription 20 décembre 2018 > centre international de congrès de tours colloque polepharma bioproduction - 3éme ed. inscription 12 décembre 2018 > le paganica soirée polepharma réseau - evreux (27) inscription 04 décembre 2018 > la filature rencontres polepharma amélioration continue – 2 e édition inscription 29 novembre 2018 > hôtel dupanloup 8ème afterwork biomédicaments inscription 22 novembre 2018 > cotton club atelier polepharma propriété industrielle inscription 15 novembre 2018 > cenexis hsc soirée réseau 18/21 polepharma & nucleopolis - caen inscription 08 novembre 2018 > centre de congrès d'orléans colloque polepharma industrie du futur - 2 e edition événements 10 octobre 2019 > evreux rencontres polepharma de l'amélioration continue - 3 e édition inscription 17 octobre 2019 > uimm workshop 1 digitalisation et culture qualité / 17 octobre 2019 inscription 23 octobre 2019 > golf du bois d'o soirée polepharma réseau - dreux (28) inscription 31 octobre 2019 > hotel de région normandie rouen les assises polepharma de l'innovation en normandie 2nd edition inscription 19 au 20 novembre 2019 > centre international de congrès de tours tips 2019 inscription 28 novembre 2019 > kindarena colloque polepharma industrie du futur - 3ème edition inscription 03 décembre 2019 > sanofi séminaire spécial inspections inscription 10 décembre 2019 > oril workshop 2 digitalisation et culture qualité / 10 décembre 2019 inscription 12 au 13 décembre 2019 > centre international de congrès de tours colloque polepharma bioproduction - 4éme ed. inscription événements precedents adhérer à polepharma espace adhérent rechercher un adhérentun réseau performant, un territoire cohérent carte polepharma job-box archives newsletter médiathèque espace pressepolepharma en vidéo iframe: // URL icgpnj9 sablekb=0&fs=1&iv load =dark&vq=medium tweets de USERNAME polepharma 11 rue du cardinal pie 28000 chartres tél. : +33 (0)2 37 20 99 90 mail : contact USERNAME territoires centre val de loire région normandie agglo pays dreux evreux métropole rouen normandie communauté seine et eure tours metropole eure et loir chartrespartenaires officiels 2019 pharma dec caisse d'epargne altran biotech quality group copyright © 2019 polepharma - mentions légales - politique de confidentialité en poursuivant votre navigation sur le site, vous acceptez l'utilisation de cookies à des fins de mesure d'audience. fermer x (button) × iframe: URL #polepharma » flux polepharma » flux des commentaires 3ème colloque polepharma rh : demandez le programme ! les jeudis de polepharma polepharma polepharma ﻿ recherche submit (button) toggle navigation polepharma * polepharma + qui sommes-nous ? + organigramme + les chiffres clés + un réseau * territoires + région centre-val de loire + région normandie + conseil départemental d'eure&loir + chartres metropole + metropole de rouen + agglo du pays de dreux + agglo evreux portes de normandie + agglo seine&eure + agglo de tours plus * performance industrielle + excellence opérationnelle + maintenance + packaging + supply chain + usine du futur * talents * relations publiques * innovation + biomédicaments + fédérer + collaborer + promouvoir adhérer à polepharma espace adhérent rechercher un adhérent je découvre les métiers de la filière pharmaceutique polepharma médiathèque espace presse polepharma polepharma ﻿ recherche submit polepharma polepharma * polepharma + qui sommes-nous ? + organigramme + les chiffres clés + un réseau * territoires + région centre-val de loire + région normandie + conseil départemental d'eure&loir + chartres metropole + metropole de rouen + agglo du pays de dreux + agglo evreux portes de normandie + agglo seine&eure + agglo de tours plus * performance industrielle + excellence opérationnelle + maintenance + packaging + supply chain + usine du futur * talents * relations publiques * innovation + biomédicaments + fédérer + collaborer + promouvoira la rencontre des futurs pharmaciens industriels ! 7 mars 2017 la 2 api est la réunion annuelle de toutes les associations industrielles en pharmacie. c'est un week-end de formation et d'insertion professionnelle destiné aux étudiants souhaitant se renseigner et s'orienter vers le monde de l'industrie pharmaceutique. il concerne tous les étudiants de la 2^ème à la 6^ème année des 24 facultés de pharmacie, soit 300 étudiants présents les 3 au 5 mars 2017. l'anepi caen-rouen (association normande des etudiants en pharmacie industrielle) a été élue pour organiser l'édition 2017, dont le thème a été : «s'adapter au monde de demain, l'évolution de la pharmacie industrielle» polepharma a souhaité montrer la forte présence industrielle locale ainsi que les nombreuses possibilités de recrutements sur son bassin (centre- val de loire; normandie; ile-de-france) une forte mobilisation de la part de la filière : * participation d'une dizaine de professionnels pharmaciens lors du dîner de gala, * animation d'une conférence de présentation du territoire, * conduite d'un atelier pour aider lors de recherches de stage et d'emploi * animation d'un stand polepharma au cœur des entreprises du bassin une rencontre aussi intéressante pour les entreprises que pour les étudiants ravis de rencontrer les professionnels et de pouvoir échanger sur les spécificités d'orientation dans le secteur de l'industrie du médicament. voir la vidéo job-box archives newsletter médiathèque espace pressepolepharma en vidéo iframe: // URL icgpnj9 sablekb=0&fs=1&iv load =dark&vq=medium tweets de USERNAME polepharma 11 rue du cardinal pie 28000 chartres tél. : +33 (0)2 37 20 99 90 mail : contact USERNAME territoires centre val de loire région normandie agglo pays dreux evreux métropole rouen normandie communauté seine et eure tours metropole eure et loir chartrespartenaires officiels 2019 pharma dec caisse d'epargne altran biotech quality group copyright © 2019 polepharma - mentions légales - politique de confidentialité en poursuivant votre navigation sur le site, vous acceptez l'utilisation de cookies à des fins de mesure d'audience. fermer x (button) × iframe: URL #polepharma » flux polepharma » flux des commentaires polepharma polepharma ﻿ recherche submit (button) toggle navigation polepharma * polepharma + qui sommes-nous ? + organigramme + les chiffres clés + un réseau * territoires + région centre-val de loire + région normandie + conseil départemental d'eure&loir + chartres metropole + metropole de rouen + agglo du pays de dreux + agglo evreux portes de normandie + agglo seine&eure + agglo de tours plus * performance industrielle + excellence opérationnelle + maintenance + packaging + supply chain + usine du futur * talents * relations publiques * innovation + biomédicaments + fédérer + collaborer + promouvoir adhérer à polepharma espace adhérent rechercher un adhérent je découvre les métiers de la filière pharmaceutique polepharma médiathèque espace presse polepharma polepharma ﻿ recherche submit polepharma polepharma * polepharma + qui sommes-nous ? + organigramme + les chiffres clés + un réseau * territoires + région centre-val de loire + région normandie + conseil départemental d'eure&loir + chartres metropole + metropole de rouen + agglo du pays de dreux + agglo evreux portes de normandie + agglo seine&eure + agglo de tours plus * performance industrielle + excellence opérationnelle + maintenance + packaging + supply chain + usine du futur * talents * relations publiques * innovation + biomédicaments + fédérer + collaborer + promouvoirfiche adhérent page générée par le plugin polepharma. ne pas éditer job-box archives newsletter médiathèque espace pressepolepharma en vidéo iframe: // URL icgpnj9 sablekb=0&fs=1&iv load =dark&vq=medium tweets de USERNAME polepharma 11 rue du cardinal pie 28000 chartres tél. : +33 (0)2 37 20 99 90 mail : contact USERNAME territoires centre val de loire région normandie agglo pays dreux evreux métropole rouen normandie communauté seine et eure tours metropole eure et loir chartrespartenaires officiels 2019 pharma dec caisse d'epargne altran biotech quality group copyright © 2019 polepharma - mentions légales - politique de confidentialité en poursuivant votre navigation sur le site, vous acceptez l'utilisation de cookies à des fins de mesure d'audience. fermer x (button) × iframe: URL #polepharma » flux polepharma » flux des commentaires polepharma » flux des articles écrits par gregory monaca polepharma polepharma ﻿ recherche submit (button) toggle navigation polepharma * polepharma + qui sommes-nous ? + organigramme + les chiffres clés + un réseau * territoires + région centre-val de loire + région normandie + conseil départemental d'eure&loir + chartres metropole + metropole de rouen + agglo du pays de dreux + agglo evreux portes de normandie + agglo seine&eure + agglo de tours plus * performance industrielle + excellence opérationnelle + maintenance + packaging + supply chain + usine du futur * talents * relations publiques * innovation + biomédicaments + fédérer + collaborer + promouvoir adhérer à polepharma espace adhérent rechercher un adhérent je découvre les métiers de la filière pharmaceutique polepharma médiathèque espace presse polepharma polepharma ﻿ recherche submit polepharma polepharma * polepharma\n",
      "\n",
      " ---------------------- \n",
      "\n"
     ]
    }
   ],
   "source": [
    "for i in nodes_train[:1]:\n",
    "    print(f\"Node #{i} : Class {df_train[df_train['node'] == i]['class']}\")\n",
    "    print(df_texts['treated_text'][i])\n",
    "    print('\\n ---------------------- \\n')"
   ]
  },
  {
   "cell_type": "markdown",
   "metadata": {},
   "source": [
    "## Parsing errors"
   ]
  },
  {
   "cell_type": "code",
   "execution_count": 46,
   "metadata": {},
   "outputs": [],
   "source": [
    "def detect_error(text):\n",
    "    errors = ['forbidden', '301', '403', '404', 'permission']\n",
    "    if (50 < len(text.split(' ')) < 200)  and any(error in text for error in errors):\n",
    "        return 1\n",
    "    elif len(text.split(' ')) < 50:\n",
    "        return 1\n",
    "    else:\n",
    "        return 0"
   ]
  },
  {
   "cell_type": "code",
   "execution_count": 47,
   "metadata": {},
   "outputs": [
    {
     "name": "stdout",
     "output_type": "stream",
     "text": [
      "Counter({0: 26248, 1: 1755})\n"
     ]
    }
   ],
   "source": [
    "if \"error\" not in df_texts.columns:\n",
    "    df_texts[\"error\"] = df_texts['treated_text'].astype(str).apply(detect_error)\n",
    "\n",
    "print(Counter(df_texts[\"error\"]))"
   ]
  },
  {
   "cell_type": "markdown",
   "metadata": {},
   "source": [
    "# Translation"
   ]
  },
  {
   "cell_type": "markdown",
   "metadata": {},
   "source": [
    "## Detecting languages"
   ]
  },
  {
   "cell_type": "code",
   "execution_count": 48,
   "metadata": {
    "scrolled": true
   },
   "outputs": [],
   "source": [
    "from googletrans import Translator\n",
    "from langdetect import detect, DetectorFactory\n",
    "\n",
    "DetectorFactory.seed = 0"
   ]
  },
  {
   "cell_type": "code",
   "execution_count": 49,
   "metadata": {},
   "outputs": [
    {
     "name": "stderr",
     "output_type": "stream",
     "text": [
      "100%|██████████| 28003/28003 [09:29<00:00, 49.15it/s]\n"
     ]
    }
   ],
   "source": [
    "languages = []\n",
    "txts = df_texts['treated_text'].values\n",
    "\n",
    "for txt in tqdm(txts):\n",
    "    try:\n",
    "        l = detect(txt)\n",
    "    except:\n",
    "        l = 'unk'\n",
    "    languages.append(l)\n",
    "df_texts['language'] = languages"
   ]
  },
  {
   "cell_type": "code",
   "execution_count": 50,
   "metadata": {},
   "outputs": [
    {
     "data": {
      "image/png": "[encoded data removed]",
      "text/plain": [
       "<Figure size 360x1080 with 1 Axes>"
      ]
     },
     "metadata": {
      "needs_background": "light"
     },
     "output_type": "display_data"
    }
   ],
   "source": [
    "languages = df_texts['language'].values\n",
    "order = np.array(sorted(Counter(languages).items(), key=operator.itemgetter(1)))[:, 0][::-1]\n",
    "\n",
    "plt.figure(figsize=(5, 15))\n",
    "sns.countplot(y=languages, order=order)\n",
    "plt.xscale('log')"
   ]
  },
  {
   "cell_type": "markdown",
   "metadata": {},
   "source": [
    "## Translating\n",
    "This line should translate about 331 of the 361 texts. The Google Translate API sometimes behave weirdly"
   ]
  },
  {
   "cell_type": "code",
   "execution_count": 51,
   "metadata": {},
   "outputs": [],
   "source": [
    "NUM_CHARS = 5000"
   ]
  },
  {
   "cell_type": "code",
   "execution_count": 52,
   "metadata": {},
   "outputs": [],
   "source": [
    "if TRANSLATE:\n",
    "    to_translate = []\n",
    "    translated = {}\n",
    "    count = 0\n",
    "    translator = Translator()\n",
    "\n",
    "    for i, (txt, lang, error) in tqdm(enumerate(df_texts[['treated_text', 'language', 'error']].values)):\n",
    "        if i in nodes and not error and lang != 'fr':\n",
    "            to_translate.append(i)\n",
    "            if i not in translated.keys():\n",
    "                try:\n",
    "                    translated_txt = translator.translate(txt[:NUM_CHARS], dest='fr')\n",
    "                    translated[i] = translated_txt.text\n",
    "                except:\n",
    "                    pass\n",
    "\n",
    "    print(f'{len(to_translate)} texts to translate')\n",
    "    print(f'Translated {len(translated)} texts')"
   ]
  },
  {
   "cell_type": "code",
   "execution_count": 53,
   "metadata": {},
   "outputs": [],
   "source": [
    "lens = []\n",
    "if TRANSLATE:\n",
    "    for k in translated.keys():\n",
    "        df_texts['treated_text'][k] = translated[k]\n",
    "        df_texts['language'][k] = 'fr'"
   ]
  },
  {
   "cell_type": "markdown",
   "metadata": {},
   "source": [
    "## Tokenize"
   ]
  },
  {
   "cell_type": "code",
   "execution_count": 54,
   "metadata": {},
   "outputs": [],
   "source": [
    "def tokenize_df(text, transformer):\n",
    "    tokens = transformer.tokenizer.tokenize(text)\n",
    "    ids = transformer.tokenizer.convert_tokens_to_ids(tokens)\n",
    "    if not len(ids):\n",
    "        ids = [0]\n",
    "    return ' '.join(list(np.array(ids).astype(str)))"
   ]
  },
  {
   "cell_type": "code",
   "execution_count": 55,
   "metadata": {},
   "outputs": [],
   "source": [
    "model = Transformer('camembert-base')\n",
    "df_texts['ids'] = df_texts['treated_text'].astype(str).apply(lambda x: tokenize_df(x, model))"
   ]
  },
  {
   "cell_type": "code",
   "execution_count": 56,
   "metadata": {},
   "outputs": [
    {
     "name": "stdout",
     "output_type": "stream",
     "text": [
      "Saved to ../output/df_texts.csv\n"
     ]
    }
   ],
   "source": [
    "df_texts.to_csv(f'../output/{filename}.csv', index=False)\n",
    "print(f'Saved to ../output/{filename}.csv')"
   ]
  }
 ],
 "metadata": {
  "kernelspec": {
   "display_name": "venv",
   "language": "python",
   "name": "venv"
  },
  "language_info": {
   "codemirror_mode": {
    "name": "ipython",
    "version": 3
   },
   "file_extension": ".py",
   "mimetype": "text/x-python",
   "name": "python",
   "nbconvert_exporter": "python",
   "pygments_lexer": "ipython3",
   "version": "3.7.6"
  }
 },
 "nbformat": 4,
 "nbformat_minor": 4
}
